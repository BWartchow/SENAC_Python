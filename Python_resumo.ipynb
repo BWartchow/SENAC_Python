{
  "nbformat": 4,
  "nbformat_minor": 0,
  "metadata": {
    "colab": {
      "provenance": []
    },
    "kernelspec": {
      "name": "python3",
      "display_name": "Python 3"
    },
    "language_info": {
      "name": "python"
    }
  },
  "cells": [
    {
      "cell_type": "markdown",
      "source": [],
      "metadata": {
        "id": "G9ffPC0f9CoG"
      }
    },
    {
      "cell_type": "markdown",
      "source": [
        "#Python em Tópicos – Semana 01 <br>\n",
        "##Aula 01:\n",
        "* Saída de Dados ▶` print( ) `\n",
        "* Variáveis são objetos.\n",
        "* Tipos primitivos de variáveis ▶ string (`str`), number (`int`, `float`), booleano (`bool`).\n",
        "* String ▶ `“aspas duplas”` ou `‘simples’`. Se usar operador `+` com string gera concatenação.\n",
        "* Entrada de dados ▶ `input( )` ▶ por padrão retorna string como argumento se não definirmos o tipo primitivo antes. <br> Ex.: `variavel = int( input(  ) )` recebe o dado do usuário e vai transformar em número inteiro, que será atribuído à variável.\n",
        "* Vírgula ▶ separa variáveis.\n",
        "* Ponto ▶ separa casas decimais em número float.\n",
        "* `\\n` ▶ separa as linhas na saída de dados (escrever dentro das aspas).<br>\n",
        "* Função `.format( )` ▶  aceita vários argumentos como parâmetro, que devem ser digitados na ordem em que quer que apareçam no texto. No texto, colocar `{ }` onde os argumentos devem ser inseridos.<br> Ex.: `print(“Olá, {  }! Você tem {  } anos!”.format(nome, idade))` <br>\n",
        "Alternativa de grafia para esta função ▶ `print( f”texto {argumento} .”)`\n",
        "* Função `type(  )` ▶ verifica dados.<br> Ex.: `print( type (N1) )`\n",
        "Funçao `.is` ▶ mesma coisa, retorna `true` ou `false` para o que quiser testar.<br> Ex.: `.istitle( )`, `.isupper(  )`, tem muitas outras opções para testar.\n",
        "* Operadores Aritméticos: <br>\n",
        "`+` (soma) `–` (subtrai) `*` (multiplica) `/` (divide) `**` (potência) `//` (divisão inteira) `%` (resto da divisão)\n",
        "* Atenção:<br> `==` operador de igualdade (diferente de `=`, que é de atribuição)<br> `!=` operador de diferença (diferente de)\n",
        "* Ordem de Precedência: o que estiver entre parênteses `()` vem primeiro. Depois, em ordem: potência `**`, depois multiplicar e dividir `* / // %` , por último somar e subtrair `+ - `.\n",
        "* Sobre outputs: <br>\n",
        "`print(“-“*20)` ▶ vai imprimir na tela 20 vezes o que estiver dentro das aspas. <br>\n",
        "O `{ :20}` reserva 20 espaços, com opções de formatação:\n",
        "\n"
      ],
      "metadata": {
        "id": "pCJxITt59Fa5"
      }
    },
    {
      "cell_type": "code",
      "source": [
        "nome = \"Fulano\"\n",
        "print(f\"Prazer, {nome:20}\")\n",
        "print(f\"Prazer, {nome:>20}\")\n",
        "print(f\"Prazer, {nome:<20}\")\n",
        "print(f\"Prazer, {nome:^20}\")\n",
        "print(f\"Prazer, {nome:=^20}\")\n"
      ],
      "metadata": {
        "colab": {
          "base_uri": "https://localhost:8080/"
        },
        "id": "d66PpCpM9eWd",
        "outputId": "1ac1abd6-8b63-4d4b-db85-e94bc698c1d4"
      },
      "execution_count": 1,
      "outputs": [
        {
          "output_type": "stream",
          "name": "stdout",
          "text": [
            "Prazer, Fulano              \n",
            "Prazer,               Fulano\n",
            "Prazer, Fulano              \n",
            "Prazer,        Fulano       \n",
            "Prazer, =======Fulano=======\n"
          ]
        }
      ]
    },
    {
      "cell_type": "markdown",
      "source": [
        "Obs.: Usar o número que quiser, 20 é só exemplo.\n",
        "* O `{ :.2f}` faz imprimir apenas duas casas decimais após o ponto em números `float`.\n",
        "* O `end=' '`  faz imprimir na mesma linha do terminal:"
      ],
      "metadata": {
        "id": "fcBcXakBCSFl"
      }
    },
    {
      "cell_type": "code",
      "source": [
        "print(\"texto \", end=' ')\n",
        "print(\" mais texto\")\n"
      ],
      "metadata": {
        "colab": {
          "base_uri": "https://localhost:8080/"
        },
        "id": "4_VVuSkUCtIY",
        "outputId": "93bba704-23ff-4f48-8b53-a1c086b71b66"
      },
      "execution_count": 2,
      "outputs": [
        {
          "output_type": "stream",
          "name": "stdout",
          "text": [
            "texto   mais texto\n"
          ]
        }
      ]
    },
    {
      "cell_type": "markdown",
      "source": [
        "## Aula 02:\n",
        "* Módulos ▶ pacotes de funcionalidades da linguagem. É preciso importar eles no código. <br>\n",
        "`import <nomemodulo>`\t ▶ Vai importar tudo. <br>\n",
        "`from <nomemodulo>  import  <funcionalidade>\t` ▶ Importa algo específico. <br>\n",
        "* [Documentação sobre módulos.](https://docs.python.org/pt-br/3/library/index.html#library-index)\n",
        "* Módulo Math: Após importar, usar onde quiser aplicar ▶ `math.nomefuncao(  )`\n",
        "* [Documentação Módulo Math.](https://docs.python.org/pt-br/3/library/math.html)\n",
        "* Algumas funções bastante usadas: <br>\n",
        "  * `math.ceil( )` para arredondar para cima\n",
        "  * `math.floor( )` para arredondar para baixo\n",
        "  * `math.trunc( )` para cortar o que tem após o ponto decimal\n",
        "  * `math.pow(x,y)` para potência\n",
        "  * `math.sqrt( )` para raiz quadrada\n",
        "  * `math.factorial( )` para fatorial\n",
        "  * Para seno, cosseno e tangente: `math.sin( )`, `math.cos( )` e `math.tan( )` , parrando o valor em radianos.\n",
        "* Módulo Random: para gerar números pseudoaleatórios.\n",
        "* [Documentação Módulo Random.](https://docs.python.org/pt-br/3/library/random.html)\n",
        "* Algumas funções bastante usadas: <br>\n",
        "  * `random.random( )` Retorna o próximo `float` aleatório entre `[0.0, 1.0)`\n",
        "  * `random.uniform(a,b)` Retorna `float` aleatório entre` a` e `b`\n",
        "  * `random.randrange(a, b,passo)` Retorna um `int` aleatório entre `a` e `b` com salto\n",
        "  * `random.randint(a,b)` Retorna `int` aleatório entre `a` e `b`\n",
        "  * `random.choice([a,b,c])` Retorna elemento aleatório dentre os elementos de uma sequência\n",
        "  * `random.shuffle([a,b,c])` Embaralha a sequência\n",
        "* Módulo Time: <br>\n",
        "\t* `time.sleep(s)`  Temporizador para a saída de dados, colocar tempo em segundos <br>\n",
        "* Módulo Datetime: <br>\n",
        "  * `datetime.date.today(  ).year`  Retorna o ano atual\n",
        "  * `datetime.date.today(  ).month`  Retorna o mês atual\n",
        "  * `datetime.date.today(  ).day`  Retorna o dia de hoje\n"
      ],
      "metadata": {
        "id": "LCH9ZRC0C10q"
      }
    },
    {
      "cell_type": "markdown",
      "source": [
        "# Aula 03:\n",
        "## Manipular strings:\n",
        "* Strings são cadeias de caracteres lidas da esquerda para direita do `0` ao último índice, sendo `0` o primeiro caractere, ou lidas da direita pra esquerda do `-1` ao último índice, sendo `-1` o último caractere.\n",
        "### Fatiamento:\n",
        "* Pegar caractere específico: `string [ índice ]` Ex.: `frase [0]`\n",
        "* Pegar intervalo específico: `string [indiceInicial : indiceFinal]` Ex.: `frase [5:10]` (último não incluso)\n",
        "* Pegar intervalo com salto: `string [inicio : fim : salto]` Ex.: `frase [5:15:2]` (lê os indices 5, 7, 9, 11 e 13)\n",
        "* Ler do começo até um ponto específico: `string [ : indiceFinal]` Ex.: `frase [ :15]` (lê do indice 0 ao 14)\n",
        "* Ler de um ponto específico até o final: `string[inicio:]` Ex.: `frase [3: ]` (lê do indice 3 até o fim)\n",
        "* Ler de um ponto específico até o final com salto: `string [ inicio :: salto]` Ex.: `frase [3: :2]` (lê do indice 3 até o fim pulando de 2 em 2).\n",
        "### Análise:\n",
        "* Função `len(string)` ▶ vai dar o *length* (comprimento) da *string*.\n",
        "* Função string.count(“caractere”)  conta quantos do que tem entre aspas existem na string.\n",
        "* Função `string.count(“caractere”, indiceInicio, indiceFim)` ▶ conta também, mas direcionado para intervalo específico. O último índice não é incluso na análise.\n",
        "* Função `string.find(“caractere”)` ▶ busca se o que está entre as aspas existe na string. Se encontrar, vai retornar o índice em que o trecho buscado inicia. Se não encontrar, retorna `-1`.\n",
        "* Função de busca com `in`: `print(“texto” in frase)` ▶ retorna `true` se existir o trecho entre aspas na (*in*) string em questão, ou `false` se não encontrar.\n",
        "### Transformações:\n",
        "* Função string.replace(“antigo”,”novo”)  vai substituir o primeiro termo entre aspas pelo segundo. Vai alterar o tamanho da string se os termos tiverem tamanhos diferentes.\n",
        "* `string.upper(   )` ▶ transforma caracteres em maiúsculos.\n",
        "* `string.lower(   )` ▶ transforma caracteres em minúsculos.\n",
        "* `string.capitalize(   )` ▶ transforma apenas primeiro caracter da string em maiúsculo.\n",
        "* `string.title(   )` ▶ transforma primeiro caracter de cada palavra da string em maiúsculo.\n",
        "* `string.strip(   )` ▶ remove espaços em branco antes e depois da string. Não remove os espaços entre as palavras. Adicionando um `r` de *right* (direita) ou um `l` de *left* (esquerda) na frente do `strip`, remove apenas os espaços à direita `.rstrip( )` ou à esquerda `.lstrip( )` da string, respectivamente.\n",
        "### Divisão:\n",
        "* Função `string.split(  )` ▶ divide as palavras da string. Assim, é possível acessar uma palavra específica através do seu índice. Ainda é possível acessar o índice de cada caracter dentro desta palavra:"
      ],
      "metadata": {
        "id": "AS_L8Cy8HLKT"
      }
    },
    {
      "cell_type": "code",
      "source": [
        "frase = \"Este é um texto\"\n",
        "frase.split()"
      ],
      "metadata": {
        "colab": {
          "base_uri": "https://localhost:8080/"
        },
        "id": "Jaaro2lHLYrd",
        "outputId": "4d57c911-bd47-4432-c21c-4f87705071a8"
      },
      "execution_count": 6,
      "outputs": [
        {
          "output_type": "execute_result",
          "data": {
            "text/plain": [
              "['Este', 'é', 'um', 'texto']"
            ]
          },
          "metadata": {},
          "execution_count": 6
        }
      ]
    },
    {
      "cell_type": "code",
      "source": [
        "frase = \"Este é um texto\"\n",
        "frase.split()[0]"
      ],
      "metadata": {
        "colab": {
          "base_uri": "https://localhost:8080/",
          "height": 35
        },
        "id": "9KOAQsNBMSlI",
        "outputId": "6e6140c9-0eb6-43cc-fa91-30561c7ff612"
      },
      "execution_count": 7,
      "outputs": [
        {
          "output_type": "execute_result",
          "data": {
            "text/plain": [
              "'Este'"
            ],
            "application/vnd.google.colaboratory.intrinsic+json": {
              "type": "string"
            }
          },
          "metadata": {},
          "execution_count": 7
        }
      ]
    },
    {
      "cell_type": "code",
      "source": [
        "frase = \"Este é um texto\"\n",
        "frase.split()[0][1]"
      ],
      "metadata": {
        "colab": {
          "base_uri": "https://localhost:8080/",
          "height": 35
        },
        "id": "3PKSX0skMko-",
        "outputId": "d6227163-dd42-447f-9be2-c56d30f45ee8"
      },
      "execution_count": 8,
      "outputs": [
        {
          "output_type": "execute_result",
          "data": {
            "text/plain": [
              "'s'"
            ],
            "application/vnd.google.colaboratory.intrinsic+json": {
              "type": "string"
            }
          },
          "metadata": {},
          "execution_count": 8
        }
      ]
    },
    {
      "cell_type": "markdown",
      "source": [
        "### Junção:\n",
        "* Função `“elemento”.join( string.split(  )   )` ▶ une as palavras através do elemento que está entre aspas. Pode ser um espaço em branco, uma letra, um símbolo, etc."
      ],
      "metadata": {
        "id": "3xBxaKq0L89w"
      }
    },
    {
      "cell_type": "code",
      "source": [
        "frase = \"Este é um texto\"\n",
        "\"=\".join(frase.split())"
      ],
      "metadata": {
        "colab": {
          "base_uri": "https://localhost:8080/",
          "height": 35
        },
        "id": "-XKckgJGND7u",
        "outputId": "433adcaf-4ca6-4af8-e3bc-0bfb8b9392e2"
      },
      "execution_count": 9,
      "outputs": [
        {
          "output_type": "execute_result",
          "data": {
            "text/plain": [
              "'Este=é=um=texto'"
            ],
            "application/vnd.google.colaboratory.intrinsic+json": {
              "type": "string"
            }
          },
          "metadata": {},
          "execution_count": 9
        }
      ]
    },
    {
      "cell_type": "markdown",
      "source": [
        "# Cores no terminal\n",
        "* `“\\033[m string \\033[m”` ▶ Entre a chave `[` e o `m` é que vai o número da cor que se quer.\n",
        "* Se for adicionar estilo e cor de fundo, seguir a ordem `\\033[ estilo; cortexto; corfundo m`\n",
        "* Estilo: 1 negrito\n",
        "* Texto: Azul: 34; Vermelho: 31; Amarelo: 33;\n",
        "* Fundo: inicia em 40 em vez de 30 (44; 41; 43)\n"
      ],
      "metadata": {
        "id": "ZdG02kIwNVZ7"
      }
    },
    {
      "cell_type": "code",
      "source": [
        "print(\"\\033[1;034;045mCores!\\033[m\")"
      ],
      "metadata": {
        "colab": {
          "base_uri": "https://localhost:8080/"
        },
        "id": "tddjhv3dNxaQ",
        "outputId": "9f58859d-a422-42b2-f4f0-3ab2bd727614"
      },
      "execution_count": 15,
      "outputs": [
        {
          "output_type": "stream",
          "name": "stdout",
          "text": [
            "\u001b[1;034;045mCores!\u001b[m\n"
          ]
        }
      ]
    },
    {
      "cell_type": "markdown",
      "source": [
        "# Aulas 04 e 05:\n",
        "## Estruturas condicionais\n",
        "* Lembrar dos dois pontos `:` e da identação! <br>\n",
        "`if <condiçãoverdadeira>: <ação>`<br>\n",
        "`else <condiçãofalsa>: <ação>` <br>\n",
        "\n",
        "\n"
      ],
      "metadata": {
        "id": "QE7C9xZ7OVlg"
      }
    },
    {
      "cell_type": "code",
      "source": [
        "idade = int(input(\"Quantos anos você tem? \"))\n",
        "if idade >= 18:\n",
        "   print(\"Maior de idade!\")\n",
        "else:\n",
        "   print(\"Menor de idade!\")"
      ],
      "metadata": {
        "colab": {
          "base_uri": "https://localhost:8080/"
        },
        "id": "MoWk5jsUQSTL",
        "outputId": "e9f173a8-99fc-4df0-dc94-c9fdc12a2f68"
      },
      "execution_count": 16,
      "outputs": [
        {
          "output_type": "stream",
          "name": "stdout",
          "text": [
            "Quantos anos você tem? 30\n",
            "Maior de idade!\n"
          ]
        }
      ]
    },
    {
      "cell_type": "markdown",
      "source": [
        "* Saída de dados na mesma linha:<br>\n",
        " `print(“verdadeiro” if <condiçãoverdadeira> else “falso”)`"
      ],
      "metadata": {
        "id": "obJylN2eRF3S"
      }
    },
    {
      "cell_type": "code",
      "source": [
        "idade = 15\n",
        "print(\"Maior de idade!\" if idade >= 18 else \"Menor de idade!\")"
      ],
      "metadata": {
        "colab": {
          "base_uri": "https://localhost:8080/"
        },
        "id": "E6WhnNCsRRF9",
        "outputId": "8dc31d24-710a-4827-83d6-8ff0caa86334"
      },
      "execution_count": 17,
      "outputs": [
        {
          "output_type": "stream",
          "name": "stdout",
          "text": [
            "Menor de idade!\n"
          ]
        }
      ]
    },
    {
      "cell_type": "markdown",
      "source": [
        "* `If` e `elif`: <br>\n",
        "`if <condição verdadeira 01>: ação` <br>\n",
        "`elif <condição verdadeira 02>: \tação` <br>\n",
        "`elif <condição verdadeira n>: \tação` <br>\n",
        "`else: ação` <br>\n"
      ],
      "metadata": {
        "id": "s9vox2ZIRr2J"
      }
    },
    {
      "cell_type": "code",
      "source": [
        "nome = str(input(\"Qual o seu nome? \"))\n",
        "if nome == \"Horácio\":\n",
        "   print(f\"Que nome bonito, {nome}!\")\n",
        "elif nome == \"Pedro\" or nome == \"Maria\" or nome == \"Paulo\":\n",
        "   print(f\"Seu nome é bem popular no Brasil, {nome}.\")\n",
        "elif nome in 'Ana Cláudia Jéssica Juliana':\n",
        "   print(\"Belo nome feminino.\")\n",
        "else:\n",
        "   print(f\"Gostei do seu nome, {nome}!\")\n",
        "print(\"Tenha um bom dia!\")"
      ],
      "metadata": {
        "colab": {
          "base_uri": "https://localhost:8080/"
        },
        "id": "OjNmAyDQSPgu",
        "outputId": "12a3f3cf-ddee-4574-906a-edf22d17fa73"
      },
      "execution_count": 19,
      "outputs": [
        {
          "output_type": "stream",
          "name": "stdout",
          "text": [
            "Qual o seu nome? Be\n",
            "Gostei do seu nome, Be!\n",
            "Tenha um bom dia!\n"
          ]
        }
      ]
    },
    {
      "cell_type": "markdown",
      "source": [
        "* Saída de dados pseudoternária: <br>\n",
        " `print(<condição teste> and “verdadeiro” or “falso”)` retorna ou a primeira expressão ou a segunda, conforme a condição teste `true` ou `false`."
      ],
      "metadata": {
        "id": "q4Ymor_0ThT8"
      }
    },
    {
      "cell_type": "code",
      "source": [
        "numero = int(input(\"Digite um número inteiro: \"))\n",
        "print(numero%2==0 and \"É par\" or \"É ímpar\")"
      ],
      "metadata": {
        "colab": {
          "base_uri": "https://localhost:8080/"
        },
        "id": "LtmcfI9fTt4Q",
        "outputId": "eb7f8e78-6338-4355-e5e5-082cd2e5e221"
      },
      "execution_count": 22,
      "outputs": [
        {
          "output_type": "stream",
          "name": "stdout",
          "text": [
            "Digite um número inteiro: 7\n",
            "É ímpar\n"
          ]
        }
      ]
    },
    {
      "cell_type": "markdown",
      "source": [
        "#Aula 06:\n",
        "## Estruturas de repetição: \n",
        "* Lembrar dos dois pontos `:` e da identação!\n",
        "* `for <contador> in range (< inicio>, < fim>): \tação`\n",
        "  * O número de fim no *range* (intervalo) não é incluído.\n",
        "  * Por padrão, o salto do intervalo é de `1` em `1`. Para outros valores, informar: <br>\n",
        "`for <contador> in range (< inicio>, < fim>, < salto>):`\n",
        "* Exemplo de contagem de 1 a 09 de 2 em 2:\n"
      ],
      "metadata": {
        "id": "XGyPbza8US7T"
      }
    },
    {
      "cell_type": "code",
      "source": [
        "for c in range (1,10,2):\n",
        "   print(c)"
      ],
      "metadata": {
        "colab": {
          "base_uri": "https://localhost:8080/"
        },
        "id": "EjrfgcxEVAjK",
        "outputId": "182c038f-7d47-4a05-cf5b-94e03f81d7c8"
      },
      "execution_count": 23,
      "outputs": [
        {
          "output_type": "stream",
          "name": "stdout",
          "text": [
            "1\n",
            "3\n",
            "5\n",
            "7\n",
            "9\n"
          ]
        }
      ]
    },
    {
      "cell_type": "markdown",
      "source": [
        "* Exemplo de contagem de 10 a 1 de 1 em 1:"
      ],
      "metadata": {
        "id": "gWUw2jnkVTRP"
      }
    },
    {
      "cell_type": "code",
      "source": [
        "for c in range(10,0,-1):\n",
        "   print(c)"
      ],
      "metadata": {
        "colab": {
          "base_uri": "https://localhost:8080/"
        },
        "id": "mu_eEoNfVSYO",
        "outputId": "5a6c7eae-2224-4a62-e9b5-12eb3be27639"
      },
      "execution_count": 24,
      "outputs": [
        {
          "output_type": "stream",
          "name": "stdout",
          "text": [
            "10\n",
            "9\n",
            "8\n",
            "7\n",
            "6\n",
            "5\n",
            "4\n",
            "3\n",
            "2\n",
            "1\n"
          ]
        }
      ]
    },
    {
      "cell_type": "markdown",
      "source": [
        "# Aulas 07 e 08:\n",
        "## Parte 02: `while`\n",
        "`while <testelogico> : ação`\n",
        "* O `while` é uma estrutura de repetição com teste lógico.\n",
        "* O `for` é uma estretura de repeticação com variável de controle.\n"
      ],
      "metadata": {
        "id": "UCb-C8EPVinX"
      }
    },
    {
      "cell_type": "code",
      "source": [
        "c = 1\n",
        "while c <= 10:\n",
        "   print(c)\n",
        "   c += 1\n",
        "print(\"Fim!\")"
      ],
      "metadata": {
        "colab": {
          "base_uri": "https://localhost:8080/"
        },
        "id": "tHA8DYDCWCCr",
        "outputId": "25ce8a67-fdb2-4d88-bd66-2dc1750b902f"
      },
      "execution_count": 25,
      "outputs": [
        {
          "output_type": "stream",
          "name": "stdout",
          "text": [
            "1\n",
            "2\n",
            "3\n",
            "4\n",
            "5\n",
            "6\n",
            "7\n",
            "8\n",
            "9\n",
            "10\n",
            "Fim!\n"
          ]
        }
      ]
    },
    {
      "cell_type": "code",
      "source": [
        "numero = soma = 0\n",
        "while True:\n",
        "   numero = int(input(\"Digite um número [999 to exit]: \"))\n",
        "   if numero == 999:\n",
        "      break\n",
        "   soma += numero\n",
        "print(f\"A soma vale {soma}.\")"
      ],
      "metadata": {
        "colab": {
          "base_uri": "https://localhost:8080/"
        },
        "id": "k_Amg8IpWPtW",
        "outputId": "0138db0c-fbfe-4788-b0f7-4cc985d79147"
      },
      "execution_count": 29,
      "outputs": [
        {
          "output_type": "stream",
          "name": "stdout",
          "text": [
            "Digite um número [999 to exit]: 5\n",
            "Digite um número [999 to exit]: 10\n",
            "Digite um número [999 to exit]: 2\n",
            "Digite um número [999 to exit]: 999\n",
            "A soma vale 17.\n"
          ]
        }
      ]
    },
    {
      "cell_type": "markdown",
      "source": [
        "(fim por enquanto)"
      ],
      "metadata": {
        "id": "rR_yrs8vW9tg"
      }
    },
    {
      "cell_type": "code",
      "source": [],
      "metadata": {
        "id": "2l0UoDjoXCeT"
      },
      "execution_count": null,
      "outputs": []
    }
  ]
}